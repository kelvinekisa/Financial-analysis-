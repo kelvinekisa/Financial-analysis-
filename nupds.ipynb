{
 "cells": [
  {
   "cell_type": "code",
   "execution_count": null,
   "metadata": {},
   "outputs": [],
   "source": []
  },
  {
   "cell_type": "code",
   "execution_count": 8,
   "metadata": {},
   "outputs": [
    {
     "name": "stdout",
     "output_type": "stream",
     "text": [
      "[1.2 2.4 3.5 4.7 6.1 7.2 8.3 9.5]\n",
      "[[ 6  5]\n",
      " [11  7]\n",
      " [ 4  8]]\n",
      "zero values [[0. 0. 0.]\n",
      " [0. 0. 0.]]\n",
      "[ 5  6  7  8  9 10 11]\n",
      "[86 83 86 56 68 97]\n",
      "[0.20440785 0.67946212 0.33200465 0.27244891 0.1228148  0.47610913]\n"
     ]
    }
   ],
   "source": [
    "import numpy as np\n",
    "\n",
    "# create one dimensional array\n",
    "one_dimensional_array = np.array([1.2, 2.4, 3.5, 4.7, 6.1, 7.2, 8.3, 9.5])\n",
    "print(one_dimensional_array)\n",
    "\n",
    "# create two dimensional array\n",
    "two_dimensional_array = np.array([[6, 5], [11, 7], [4, 8]])\n",
    "print(two_dimensional_array)\n",
    "\n",
    "# to populate an array with all zeros call np.zeros. to populate an array with all ones call np.ones\n",
    "zeros = np.zeros([2, 3])\n",
    "print(\"zero values\", zeros)\n",
    "\n",
    "sequence_of_integers = np.arange(5, 12)\n",
    "print(sequence_of_integers) # np.arange generates a sequence that includes the lower bond 5 but not the upper bond 12\n",
    "\n",
    "# populate arrays with random numbers\n",
    "random_integers_btn_50_and_100 = np.random.randint(low=50, high=101, size=(6))\n",
    "print(random_integers_btn_50_and_100)\n",
    "\n",
    "# create a random floating point value btn 0.0 and 1.0\n",
    "random_floating_point_value = np.random.random(6)\n",
    "print(random_floating_point_value)\n",
    "\n"
   ]
  },
  {
   "cell_type": "markdown",
   "metadata": {},
   "source": [
    "Mathematical operations on numpy operands\n",
    "Broadcasting - virtually expands the smaller operands to dimensions comaptible for linear algebra\n"
   ]
  },
  {
   "cell_type": "code",
   "execution_count": 10,
   "metadata": {},
   "outputs": [
    {
     "name": "stdout",
     "output_type": "stream",
     "text": [
      "[2.20440785 2.67946212 2.33200465 2.27244891 2.1228148  2.47610913]\n",
      "[258 249 258 168 204 291]\n"
     ]
    }
   ],
   "source": [
    "# adding 2.0 to the value of every item created i the code cell\n",
    "random_floats_btn_2_and_3 = random_floating_point_value + 2.0\n",
    "print(random_floats_btn_2_and_3)\n",
    "\n",
    "# broadcasting to multiply each cell in an array by 3\n",
    "random_integers_btn_150_and_300 = random_integers_btn_50_and_100 * 3\n",
    "print(random_integers_btn_150_and_300)\n"
   ]
  },
  {
   "cell_type": "markdown",
   "metadata": {},
   "source": [
    "Create a Linear Dataset"
   ]
  },
  {
   "cell_type": "code",
   "execution_count": null,
   "metadata": {
    "vscode": {
     "languageId": "cpp"
    }
   },
   "outputs": [],
   "source": []
  }
 ],
 "metadata": {
  "kernelspec": {
   "display_name": "Python 3",
   "language": "python",
   "name": "python3"
  },
  "language_info": {
   "codemirror_mode": {
    "name": "ipython",
    "version": 3
   },
   "file_extension": ".py",
   "mimetype": "text/x-python",
   "name": "python",
   "nbconvert_exporter": "python",
   "pygments_lexer": "ipython3",
   "version": "3.10.12"
  }
 },
 "nbformat": 4,
 "nbformat_minor": 2
}
