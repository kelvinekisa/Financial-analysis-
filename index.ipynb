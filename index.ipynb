{
 "cells": [
  {
   "cell_type": "code",
   "execution_count": 4,
   "metadata": {},
   "outputs": [
    {
     "data": {
      "text/plain": [
       "193.77777777777777"
      ]
     },
     "execution_count": 4,
     "metadata": {},
     "output_type": "execute_result"
    }
   ],
   "source": [
    "# This is my first to Machine learning \n",
    "import numpy as np\n",
    "import pandas as pd\n",
    "import matplotlib.pyplot as plt\n",
    "import seaborn as sns\n",
    "\n",
    "\n",
    "# Intro Group by\n",
    "# Splitting the data into groups based on some criteria\n",
    "# Applying a function to echa group independently\n",
    "# combining the results into a data structure\n",
    "\n",
    "# On a dataframe we obtain groupy object by calling groupby() function.\n",
    "\n",
    "\n",
    "df = pd.DataFrame({\n",
    "    \"A\" : [\"foo\", \"bar\", \"foo\", \"bar\", \"foo\", \"bar\", \"foo\", \"foo\"],\n",
    "    \"B\" : [\"One\", \"One\", \"two\", \"three\", \"two\", \"two\", \"one\", \"three\"],\n",
    "    \"C\" : np.random.random(8),\n",
    "    \"D\" : np.random.random(8)\n",
    "})\n",
    "# Grouping by a column label, selecting column labels and then applying the dataFrameGroupby.sum() function to see the resulting groups\n",
    "df.groupby(\"A\")[[\"C\", \"D\"]].sum()\n",
    "\n",
    "# Grouping by multiple columns labels forms multiindex\n",
    "df.groupby([\"A\", \"B\"]).sum()\n",
    "\n",
    "\n",
    "grouped = df.groupby(\"A\") # or  df.groupby(df['A])\n",
    "grouped = df.groupby(\"B\")\n",
    "grouped = df.groupby(['A', 'B'])\n",
    "\n",
    "\n",
    "# A data set called drinks by country\n",
    "drinks = pd.read_csv('http://bit.ly/drinksbycountry')\n",
    "drinks.head()\n",
    "# drinks.info()\n",
    "\n",
    "# print( \"The mean of beer serving\",  drinks.beer_servings.mean())\n",
    "\n",
    "# variations in all continent\n",
    "drinks.groupby('continent').beer_servings.mean()\n",
    "drinks[drinks.continent == 'Africa'].beer_servings.mean()\n",
    "drinks.groupby('continent').beer_servings.agg(['mean', 'max', 'min', 'count'])\n",
    "\n",
    "# drinks.groupby('continent').mean() you need to select columns with numerical values only and group them together\n",
    "\n",
    "# selecting columns with numeric data\n",
    "numeric_cols = drinks.select_dtypes(include='number').columns \n",
    "\n",
    "drinks.groupby('continent')[numeric_cols].mean()\n",
    "\n",
    "\n",
    "drinks[drinks.continent == 'Europe'].beer_servings.mean()\n",
    "\n",
    "\n",
    "\n",
    "\n",
    "\n",
    "\n",
    "\n",
    "\n",
    "\n",
    "\n"
   ]
  },
  {
   "cell_type": "code",
   "execution_count": 11,
   "metadata": {},
   "outputs": [
    {
     "name": "stdout",
     "output_type": "stream",
     "text": [
      "<class 'pandas.core.frame.DataFrame'>\n",
      "Index: 5 entries, falcom to leopard\n",
      "Data columns (total 3 columns):\n",
      " #   Column     Non-Null Count  Dtype  \n",
      "---  ------     --------------  -----  \n",
      " 0   class      5 non-null      object \n",
      " 1   order      5 non-null      object \n",
      " 2   max_speed  4 non-null      float64\n",
      "dtypes: float64(1), object(2)\n",
      "memory usage: 160.0+ bytes\n"
     ]
    }
   ],
   "source": [
    "# splitting an object into groups\n",
    "speeds = pd.DataFrame(\n",
    "    [\n",
    "        (\"bird\", \"Falconiformes\", 389.0),\n",
    "        (\"bird\", \"Psittaciformes\", 24.0),\n",
    "        (\"mammal\", \"Carnivora\", 80.2),\n",
    "        (\"mammal\", \"Primates\", np.nan),\n",
    "        (\"mammal\", \"Carnivora\", 58),\n",
    "        \n",
    "    ],\n",
    "    index = ['falcom', 'parrot', 'lion', 'monkey', 'leopard'],\n",
    "    columns=(\"class\", \"order\", \"max_speed\")\n",
    ")\n",
    "speeds.head()\n",
    "speeds.groupby()\n",
    "\n"
   ]
  },
  {
   "cell_type": "code",
   "execution_count": 32,
   "metadata": {},
   "outputs": [
    {
     "data": {
      "text/plain": [
       "Sex     Pclass\n",
       "female  1         106.125798\n",
       "        2          21.970121\n",
       "        3          16.118810\n",
       "male    1          67.226127\n",
       "        2          19.741782\n",
       "        3          12.661633\n",
       "Name: Fare, dtype: float64"
      ]
     },
     "execution_count": 32,
     "metadata": {},
     "output_type": "execute_result"
    }
   ],
   "source": [
    "#  how to calculate summary statistics\n",
    "titanic = pd.read_csv(\"Datasets/titanic.csv\")\n",
    "\n",
    "titanic.head()\n",
    "\n",
    "# Aggregating statistics - mean, min, max, count\n",
    "titanic['Age'].mean()\n",
    "\n",
    "# statistics are applied to columns with numerical data\n",
    "# Operations in general exclude missing data and operate across rows by default\n",
    "\n",
    "# what is the median age and fare\n",
    "titanic[[\"Age\", \"Fare\"]].median() # the selection of a two columns returns a dataframe\n",
    "\n",
    "titanic[['Age', 'Fare']].describe()\n",
    "\n",
    "# specific combinations of aggregating statistics for given columns can be defined using the DataFrame.agg() method:\n",
    "titanic.agg(\n",
    "    {\n",
    "        'Age' : ['min', 'max', 'median', 'skew'],\n",
    "        'Fare': ['min', 'max', 'median', 'mean']\n",
    "    }\n",
    ")\n",
    "\n",
    "# What is the average age for male vs female\n",
    "titanic[[\"Sex\", 'Age']].groupby(\"Sex\").mean() # a subselection is made for sex and age. and then groupby is applied on sex\n",
    "\n",
    "# if we dont explicitly select columns the mean method is applied to each column containing numerical columns by passing numeric_only = True\n",
    "titanic.groupby(\"Sex\").mean(numeric_only=True)\n",
    "\n",
    "''' \n",
    "If we are only interested in the average age for each gender the selection of columns (rectangular brackets[] as usual) \n",
    "is suported on the grouped data.\n",
    "'''\n",
    "titanic.groupby('Sex')[\"Age\"].mean()\n",
    "\n",
    "# What is the mean ticket fare price for each of the sex and cabin class combinations?\n",
    "titanic.groupby(['Sex', \"Pclass\"])[\"Fare\"].mean()\n",
    "\n",
    "# grouping can be done by multiple columns at the same time. Provide the column names as a list to the groupby() method.\n"
   ]
  },
  {
   "cell_type": "code",
   "execution_count": 31,
   "metadata": {},
   "outputs": [
    {
     "data": {
      "text/plain": [
       "0    a\n",
       "1    b\n",
       "2    c\n",
       "3    a\n",
       "dtype: category\n",
       "Categories (3, object): ['a', 'b', 'c']"
      ]
     },
     "execution_count": 31,
     "metadata": {},
     "output_type": "execute_result"
    }
   ],
   "source": [
    "# Categorical Data\n",
    "''' \n",
    "categoricals are pandas data types corresponding t categorical variables in statistics. categorical variables takes a limited and usually fixed number of possible values\n",
    "\n",
    "categorical data might have an order\n",
    "\n",
    "'''\n",
    "# Object creation\n",
    "s = pd.Series(['a', 'b', 'c', 'a'], dtype='category')\n",
    "s"
   ]
  },
  {
   "cell_type": "code",
   "execution_count": 24,
   "metadata": {},
   "outputs": [
    {
     "data": {
      "text/plain": [
       "nan"
      ]
     },
     "execution_count": 24,
     "metadata": {},
     "output_type": "execute_result"
    }
   ],
   "source": [
    "# descriptive statisctics\n",
    "df1 = pd.DataFrame(\n",
    "    {\"A\": [1.0, np.nan, 3.0, 5.0, np.nan], \"B\": [np.nan, 2.0, 3.0, np.nan, 6.0]}\n",
    ")\n",
    "\n",
    "\n",
    "df2 = pd.DataFrame(\n",
    "    {\n",
    "        \"A\": [5.0, 2.0, 4.0, np.nan, 3.0, 7.0],\n",
    "        \"B\": [np.nan, np.nan, 3.0, 4.0, 6.0, 8.0],\n",
    "    }\n",
    ")\n",
    "\n",
    "df1\n",
    "df2\n",
    "df1[\"A\"].sum(0, skipna=False)"
   ]
  }
 ],
 "metadata": {
  "kernelspec": {
   "display_name": "Python 3",
   "language": "python",
   "name": "python3"
  },
  "language_info": {
   "codemirror_mode": {
    "name": "ipython",
    "version": 3
   },
   "file_extension": ".py",
   "mimetype": "text/x-python",
   "name": "python",
   "nbconvert_exporter": "python",
   "pygments_lexer": "ipython3",
   "version": "3.10.12"
  }
 },
 "nbformat": 4,
 "nbformat_minor": 2
}
