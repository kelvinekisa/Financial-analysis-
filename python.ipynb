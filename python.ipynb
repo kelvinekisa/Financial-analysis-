{
 "cells": [
  {
   "cell_type": "code",
   "execution_count": 1,
   "metadata": {},
   "outputs": [
    {
     "name": "stdout",
     "output_type": "stream",
     "text": [
      "This is iteration:  1\n",
      "1\n",
      "This is iteration:  2\n",
      "2\n",
      "This is iteration:  3\n",
      "3\n",
      "This is iteration:  4\n",
      "4\n",
      "This is iteration:  5\n",
      "5\n",
      "Thr loop is finished now!\n"
     ]
    }
   ],
   "source": [
    "# Looping over a collections -   loops allow us to iterate over each element in a collection like a list\n",
    "# for loop - used to got through elements of a list one by one\n",
    "\n",
    "x = [1, 2, 3, 4, 5]             \n",
    "count = 0\n",
    "for j in x:\n",
    "    count += 1\n",
    "    print(\"This is iteration: \", count)\n",
    "    print(j)\n",
    "print(\"Thr loop is finished now!\")\n",
    "\n",
    "# we can also use a list of numbers to access"
   ]
  }
 ],
 "metadata": {
  "kernelspec": {
   "display_name": "Python 3",
   "language": "python",
   "name": "python3"
  },
  "language_info": {
   "codemirror_mode": {
    "name": "ipython",
    "version": 3
   },
   "file_extension": ".py",
   "mimetype": "text/x-python",
   "name": "python",
   "nbconvert_exporter": "python",
   "pygments_lexer": "ipython3",
   "version": "3.10.12"
  }
 },
 "nbformat": 4,
 "nbformat_minor": 2
}
